{
 "cells": [
  {
   "cell_type": "code",
   "execution_count": 1,
   "id": "5ab02f02-073c-4c14-aeba-b2a168997944",
   "metadata": {
    "tags": []
   },
   "outputs": [
    {
     "name": "stdout",
     "output_type": "stream",
     "text": [
      "23/05/05 01:43:11 WARN SparkSession: Using an existing Spark session; only runtime SQL configurations will take effect.\n"
     ]
    }
   ],
   "source": [
    "from pyspark.sql import SparkSession\n",
    "files_path = \"/home/iceberg/playlist_data/*.json\"\n",
    "spark = (SparkSession\n",
    "         .builder\n",
    "         .appName(\"IcebergDemo\")\n",
    "         .getOrCreate()\n",
    "        )"
   ]
  },
  {
   "cell_type": "code",
   "execution_count": 2,
   "id": "faa337ae-8bba-42cb-bd84-01eb15dd8948",
   "metadata": {
    "tags": []
   },
   "outputs": [
    {
     "name": "stderr",
     "output_type": "stream",
     "text": [
      "                                                                                \r"
     ]
    }
   ],
   "source": [
    "from pyspark.sql.functions import explode, col, from_unixtime\n",
    "\n",
    "df = (\n",
    "    spark.read.json(files_path, multiLine=True)\n",
    "    .select(explode('playlists').alias('playlist'))\n",
    "    .select('playlist',\n",
    "            explode('playlist.tracks').alias('track'))\n",
    "    .select(col('playlist.name').alias('playlist_name'),\n",
    "            col('playlist.pid').alias('playlist_id'),\n",
    "            (col('playlist.pid') % 4).alias('partition_id'),\n",
    "            col('playlist.collaborative').alias('playlist_collaborative'),\n",
    "            col('playlist.num_tracks').alias('playlist_tracks'),\n",
    "            col('playlist.num_albums').alias('playlist_albums'),\n",
    "            col('playlist.num_followers').alias('playlist_followers'),\n",
    "            from_unixtime(col('playlist.modified_at')).alias('playlist_modified_at'), \n",
    "            col('track.pos').alias('track_position'),\n",
    "            col('track.artist_name').alias('track_artist_name'),\n",
    "            col('track.track_uri').alias('track_uri'),\n",
    "            col('track.artist_uri').alias('track_artist_uri'),\n",
    "            col('track.track_name').alias('track_name'),\n",
    "            col('track.album_uri').alias('track_album_uri'),\n",
    "            (col('track.duration_ms')/1000).alias('track_duration'),\n",
    "            col('track.album_name').alias('track_album_name'))\n",
    ")"
   ]
  },
  {
   "cell_type": "code",
   "execution_count": 3,
   "id": "bea195da",
   "metadata": {},
   "outputs": [
    {
     "name": "stderr",
     "output_type": "stream",
     "text": [
      "[Stage 1:=============================================>             (7 + 2) / 9]\r"
     ]
    },
    {
     "name": "stdout",
     "output_type": "stream",
     "text": [
      "+------------+------+\n",
      "|partition_id| count|\n",
      "+------------+------+\n",
      "|           0|416542|\n",
      "|           1|415697|\n",
      "|           3|415309|\n",
      "|           2|422447|\n",
      "+------------+------+\n",
      "\n"
     ]
    },
    {
     "name": "stderr",
     "output_type": "stream",
     "text": [
      "\r",
      "                                                                                \r"
     ]
    }
   ],
   "source": [
    "df.groupby('partition_id').count().show()"
   ]
  },
  {
   "cell_type": "code",
   "execution_count": 4,
   "id": "4541c558",
   "metadata": {
    "scrolled": true
   },
   "outputs": [
    {
     "name": "stderr",
     "output_type": "stream",
     "text": [
      "SLF4J: Failed to load class \"org.slf4j.impl.StaticLoggerBinder\".    (0 + 4) / 9]\n",
      "SLF4J: Defaulting to no-operation (NOP) logger implementation\n",
      "SLF4J: See http://www.slf4j.org/codes.html#StaticLoggerBinder for further details.\n",
      "                                                                                \r"
     ]
    }
   ],
   "source": [
    "(df\n",
    " .sortWithinPartitions('partition_id')\n",
    " .writeTo('stage.spotify.playlists')\n",
    " .partitionedBy('partition_id')\n",
    " .create()\n",
    ")"
   ]
  }
 ],
 "metadata": {
  "kernelspec": {
   "display_name": "Python 3 (ipykernel)",
   "language": "python",
   "name": "python3"
  },
  "language_info": {
   "codemirror_mode": {
    "name": "ipython",
    "version": 3
   },
   "file_extension": ".py",
   "mimetype": "text/x-python",
   "name": "python",
   "nbconvert_exporter": "python",
   "pygments_lexer": "ipython3",
   "version": "3.9.15"
  }
 },
 "nbformat": 4,
 "nbformat_minor": 5
}
